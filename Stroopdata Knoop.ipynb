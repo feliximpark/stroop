{
 "cells": [
  {
   "cell_type": "markdown",
   "metadata": {},
   "source": [
    "### Analyzing the Stroop Effect\n",
    "#### by Christoph Knoop\n",
    "Perform the analysis in the space below. Remember to follow the instructions and review the project rubric before submitting. Once you've completed the analysis and write-up, download this file as a PDF or HTML file, upload that PDF/HTML into the workspace here (click on the orange Jupyter icon in the upper left then Upload), then use the Submit Project button at the bottom of this page. This will create a zip file containing both this .ipynb doc and the PDF/HTML doc that will be submitted for your project.\n",
    "\n",
    "**(1) What is the independent variable? What is the dependent variable?**"
   ]
  },
  {
   "cell_type": "markdown",
   "metadata": {},
   "source": [
    "The **independent variable** (or sometimes called experimental oder prdictor variable) is the variable, which is being manipulated for the experiment. In our case it is the color of the ink used to write the words - or, to be more precise, the fact whether the meaning of the word's content is related to the colour of the letters or not. \n",
    "\n",
    "The **dependent variable** is the time that participants need to complete the test. "
   ]
  },
  {
   "cell_type": "markdown",
   "metadata": {},
   "source": [
    "**(2) What is an appropriate set of hypotheses for this task? Specify your null and alternative hypotheses, and clearly define any notation used. Justify your choices.**"
   ]
  },
  {
   "cell_type": "markdown",
   "metadata": {},
   "source": [
    "The H-0-Hypothesis assumes that we will not see any significant differences between the two tests, so the formula is:  \n",
    "\n",
    "$\\begin{equation*}\n",
    "\\mathbf{H}_0  = \\mu_c - \\mu_i \\geq \\mathbf {0}\n",
    "\\end{equation*}$\n",
    "\n",
    "The hypothesis we want to prove, however, assumes that the tests with the congruent elements are completed faster than the tests with the incongruent elements. So the formula is: \n",
    "\n",
    "$\\begin{equation*}\n",
    "\\mathbf{H}_1  = \\mu_c - \\mu_i < \\mathbf {0}\n",
    "\\end{equation*}$\n",
    "\n",
    "\n",
    "\n",
    "\n",
    "**Definition**: \n",
    "\n",
    "$\\begin{equation*}\n",
    "\\mathbf{H}_0\n",
    "\\end{equation*}$ - \n",
    "the Symbol for our null hypothesis (no significant differences between the two tests). The null hypothesis often states that there is no effect or that the relationship investigated does not exist. This thesis must be discarded in order to accept the alternative hypothesis. This procedure is intended to minimize the possibility of a class 1 error (assuming the alternative hypothesis, although the null hypothesis is correct). \n",
    "\n",
    "$\\begin{equation*}\n",
    "\\mathbf{H}_1\n",
    "\\end{equation*}$ - \n",
    "the Symbol for the alternative hypothesis. Usually this hypothesis should be proven (means: the H0 hypothesis should be rejected). The alternative hypothesis must not overlap with the null hypothesis. \n",
    "\n",
    "\n",
    "$\\begin{equation*}\n",
    "\\mu_c\n",
    "\\end{equation*}$ - Symbol for the population mean of needed time during experiments in which color and word meaning are congruent.\n",
    "\n",
    "$\\begin{equation*}\n",
    "\\mu_i\n",
    "\\end{equation*}$ - Symbol for the population mean of needed time during experiments in which color and word meaning are incongruent.\n",
    "\n",
    "\n",
    "We choose a Paired T test here to verify our results. The reason: We are dealing here with the results of one test person, i.e. value pairs. We can best examine these with the Paired-T test. \n",
    "\n",
    "We assume that the population data is distributed almost normally. Furthermore, we assume (central limit theorem) that the mean values of the samples are normally distributed with sufficiently high data. However, the sample of 24 is relatively small. As a rule of thumb: from a sample of 30, we can assume that the mean values are normally distributed. \n",
    "\n",
    "But: The more similar the measured values are in a population, the sooner we can assume that the sample is also normally distributed despite the small number of values. This is given here. \n",
    "\n",
    "Since we do not know the variance of the population and the sample size of 24 is less than 30, a Z-test is not possible. \n",
    "\n",
    "\n",
    "\n"
   ]
  },
  {
   "cell_type": "markdown",
   "metadata": {},
   "source": [
    "**(3) Report some descriptive statistics regarding this dataset. Include at least one measure of central tendency and at least one measure of variability. The name of the data file is 'stroopdata.csv'.**\n"
   ]
  },
  {
   "cell_type": "code",
   "execution_count": 6,
   "metadata": {},
   "outputs": [
    {
     "data": {
      "text/html": [
       "<div>\n",
       "<style>\n",
       "    .dataframe thead tr:only-child th {\n",
       "        text-align: right;\n",
       "    }\n",
       "\n",
       "    .dataframe thead th {\n",
       "        text-align: left;\n",
       "    }\n",
       "\n",
       "    .dataframe tbody tr th {\n",
       "        vertical-align: top;\n",
       "    }\n",
       "</style>\n",
       "<table border=\"1\" class=\"dataframe\">\n",
       "  <thead>\n",
       "    <tr style=\"text-align: right;\">\n",
       "      <th></th>\n",
       "      <th>Congruent</th>\n",
       "      <th>Incongruent</th>\n",
       "    </tr>\n",
       "  </thead>\n",
       "  <tbody>\n",
       "    <tr>\n",
       "      <th>0</th>\n",
       "      <td>12.079</td>\n",
       "      <td>19.278</td>\n",
       "    </tr>\n",
       "    <tr>\n",
       "      <th>1</th>\n",
       "      <td>16.791</td>\n",
       "      <td>18.741</td>\n",
       "    </tr>\n",
       "    <tr>\n",
       "      <th>2</th>\n",
       "      <td>9.564</td>\n",
       "      <td>21.214</td>\n",
       "    </tr>\n",
       "    <tr>\n",
       "      <th>3</th>\n",
       "      <td>8.630</td>\n",
       "      <td>15.687</td>\n",
       "    </tr>\n",
       "    <tr>\n",
       "      <th>4</th>\n",
       "      <td>14.669</td>\n",
       "      <td>22.803</td>\n",
       "    </tr>\n",
       "    <tr>\n",
       "      <th>5</th>\n",
       "      <td>12.238</td>\n",
       "      <td>20.878</td>\n",
       "    </tr>\n",
       "    <tr>\n",
       "      <th>6</th>\n",
       "      <td>14.692</td>\n",
       "      <td>24.572</td>\n",
       "    </tr>\n",
       "    <tr>\n",
       "      <th>7</th>\n",
       "      <td>8.987</td>\n",
       "      <td>17.394</td>\n",
       "    </tr>\n",
       "    <tr>\n",
       "      <th>8</th>\n",
       "      <td>9.401</td>\n",
       "      <td>20.762</td>\n",
       "    </tr>\n",
       "    <tr>\n",
       "      <th>9</th>\n",
       "      <td>14.480</td>\n",
       "      <td>26.282</td>\n",
       "    </tr>\n",
       "  </tbody>\n",
       "</table>\n",
       "</div>"
      ],
      "text/plain": [
       "   Congruent  Incongruent\n",
       "0     12.079       19.278\n",
       "1     16.791       18.741\n",
       "2      9.564       21.214\n",
       "3      8.630       15.687\n",
       "4     14.669       22.803\n",
       "5     12.238       20.878\n",
       "6     14.692       24.572\n",
       "7      8.987       17.394\n",
       "8      9.401       20.762\n",
       "9     14.480       26.282"
      ]
     },
     "execution_count": 6,
     "metadata": {},
     "output_type": "execute_result"
    }
   ],
   "source": [
    "import pandas as pd\n",
    "import numpy as np\n",
    "import scipy.stats as stats\n",
    "import matplotlib.pyplot as plt\n",
    "import seaborn as sns\n",
    "%matplotlib inline\n",
    "df = pd.read_csv(\"stroopdata.csv\")\n",
    "df.head(10)\n"
   ]
  },
  {
   "cell_type": "code",
   "execution_count": 67,
   "metadata": {},
   "outputs": [
    {
     "name": "stdout",
     "output_type": "stream",
     "text": [
      "Average congruent: 14.051125000000004\n",
      "Average incongruent: 22.01591666666667\n"
     ]
    }
   ],
   "source": [
    "# Mean of congruent and incongruent test\n",
    "avg_cong = df[\"Congruent\"].mean()\n",
    "avg_incong = df[\"Incongruent\"].mean()\n",
    "print(\"Average congruent: {}\".format(avg_cong))\n",
    "print(\"Average incongruent: {}\".format(avg_incong))\n"
   ]
  },
  {
   "cell_type": "code",
   "execution_count": 68,
   "metadata": {},
   "outputs": [
    {
     "name": "stdout",
     "output_type": "stream",
     "text": [
      "Median congruent: 14.3565\n",
      "Median incongruent: 21.0175\n"
     ]
    }
   ],
   "source": [
    "# Median of both columns\n",
    "med_cong = avg_cong = df[\"Congruent\"].median()\n",
    "med_incong = df[\"Incongruent\"].median()\n",
    "print(\"Median congruent: {}\".format(med_cong))\n",
    "print(\"Median incongruent: {}\".format(med_incong))"
   ]
  },
  {
   "cell_type": "code",
   "execution_count": 8,
   "metadata": {},
   "outputs": [
    {
     "name": "stdout",
     "output_type": "stream",
     "text": [
      "Standard Deviation congruent: 3.559357957645195\n",
      "Standard Deviation incongruent: 4.797057122469138\n"
     ]
    }
   ],
   "source": [
    "# Sample Standard Deviation of congruent and incongruent test\n",
    "std_cong = np.std(df[\"Congruent\"], ddof=1)\n",
    "std_incong = np.std(df[\"Incongruent\"], ddof=1)\n",
    "print (\"Standard Deviation congruent: {}\".format(std_cong))\n",
    "print (\"Standard Deviation incongruent: {}\".format(std_incong))"
   ]
  },
  {
   "cell_type": "markdown",
   "metadata": {},
   "source": [
    "**(4) Provide one or two visualizations that show the distribution of the sample data. Write one or two sentences noting what you observe about the plot or plots.**"
   ]
  },
  {
   "cell_type": "code",
   "execution_count": 10,
   "metadata": {},
   "outputs": [
    {
     "data": {
      "text/plain": [
       "<matplotlib.axes._subplots.AxesSubplot at 0x2683891e0b8>"
      ]
     },
     "execution_count": 10,
     "metadata": {},
     "output_type": "execute_result"
    },
    {
     "data": {
      "image/png": "[encoded data removed]",
      "text/plain": [
       "<matplotlib.figure.Figure at 0x26838900a58>"
      ]
     },
     "metadata": {},
     "output_type": "display_data"
    }
   ],
   "source": [
    "sns.boxplot(data = df )"
   ]
  },
  {
   "cell_type": "markdown",
   "metadata": {
    "collapsed": true
   },
   "source": [
    "It can be clearly seen that the test subjects were able to solve the test much faster with the ordered data. \n"
   ]
  },
  {
   "cell_type": "code",
   "execution_count": 11,
   "metadata": {},
   "outputs": [
    {
     "data": {
      "text/plain": [
       "(array([ 1.,  0.,  1.,  0.,  0.,  5.,  5.,  4.,  1.,  7.]),\n",
       " array([-21.919 , -19.9221, -17.9252, -15.9283, -13.9314, -11.9345,\n",
       "         -9.9376,  -7.9407,  -5.9438,  -3.9469,  -1.95  ]),\n",
       " <a list of 10 Patch objects>)"
      ]
     },
     "execution_count": 11,
     "metadata": {},
     "output_type": "execute_result"
    },
    {
     "data": {
      "image/png": "[encoded data removed]",
      "text/plain": [
       "<matplotlib.figure.Figure at 0x26838cabdd8>"
      ]
     },
     "metadata": {},
     "output_type": "display_data"
    }
   ],
   "source": [
    "plt.hist(df[\"Congruent\"] - df[\"Incongruent\"])"
   ]
  },
  {
   "cell_type": "markdown",
   "metadata": {},
   "source": [
    "If we look at the difference between the test times for the congruent and non-congruent test elements, we get a picture that also clearly indicates that the incongruent test takes more time: All times are negative, i.e. the congruent test is faster, the incongruent slower. "
   ]
  },
  {
   "cell_type": "markdown",
   "metadata": {},
   "source": [
    "**(5)  Now, perform the statistical test and report your results. What is your confidence level or Type I error associated with your test? What is your conclusion regarding the hypotheses you set up? Did the results match up with your expectations? Think about what is being measured on each individual, and what statistic best captures how an individual reacts in each environment.**"
   ]
  },
  {
   "cell_type": "markdown",
   "metadata": {},
   "source": [
    "\n",
    "For avoiding an Type-I-Error, we are setting alpha to 0.05. \n",
    "    "
   ]
  },
  {
   "cell_type": "code",
   "execution_count": 116,
   "metadata": {},
   "outputs": [
    {
     "name": "stdout",
     "output_type": "stream",
     "text": [
      "0.0 Ttest_relResult(statistic=-8.020706944109957, pvalue=4.1030005857111781e-08)\n"
     ]
    }
   ],
   "source": [
    "result = stats.ttest_rel(df[\"Congruent\"], df[\"Incongruent\"])\n",
    "print(round(result[1], 5), result)"
   ]
  },
  {
   "cell_type": "markdown",
   "metadata": {},
   "source": [
    "The P value is significantly lower than the alpha value. This means that we can reject the H0 thesis and use the H1 thesis (tests with incongruent values take more time) instead, as we had already suspected. "
   ]
  },
  {
   "cell_type": "markdown",
   "metadata": {},
   "source": [
    "**(6) Optional: What do you think is responsible for the effects observed? Can you think of an alternative or similar task that would result in a similar effect? Some research about the problem will be helpful for thinking about these two questions!**"
   ]
  },
  {
   "cell_type": "markdown",
   "metadata": {},
   "source": [
    "Processes that humans have internalized in such a way that they are largely automatic are difficult to suppress. If we deviate from our usual routines and have to use a new approach when solving a task, it is rather difficult and takes time. \n",
    "\n",
    "This phenomenon is not only likely to occur in the automated process of reading, but in many other areas of life. Wherever what has been learned runs automatically after some time, it costs a lot of concentration to approach things differently. One example is sport. For example, anyone who has used a certain stroke technique in table tennis for ten years and should suddenly change it will also need time. "
   ]
  },
  {
   "cell_type": "code",
   "execution_count": null,
   "metadata": {
    "collapsed": true
   },
   "outputs": [],
   "source": []
  }
 ],
 "metadata": {
  "kernelspec": {
   "display_name": "Python 3",
   "language": "python",
   "name": "python3"
  },
  "language_info": {
   "codemirror_mode": {
    "name": "ipython",
    "version": 3
   },
   "file_extension": ".py",
   "mimetype": "text/x-python",
   "name": "python",
   "nbconvert_exporter": "python",
   "pygments_lexer": "ipython3",
   "version": "3.6.0"
  }
 },
 "nbformat": 4,
 "nbformat_minor": 2
}
